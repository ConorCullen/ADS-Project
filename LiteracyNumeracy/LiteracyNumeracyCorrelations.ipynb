{
 "cells": [
  {
   "cell_type": "code",
   "execution_count": null,
   "metadata": {
    "scrolled": false
   },
   "outputs": [],
   "source": [
    "import pandas as pd\n",
    "from zipfile import ZipFile\n",
    "import matplotlib.pyplot as plt\n",
    "import seaborn as sns\n",
    "import numpy as np\n",
    "from IPython import display\n",
    "from time import sleep\n",
    "import scipy.stats  as stats\n",
    "from scipy.stats import pearsonr"
   ]
  },
  {
   "cell_type": "markdown",
   "metadata": {},
   "source": [
    "**Correlations between features of Literacy and Numeracy Dataset**"
   ]
  },
  {
   "cell_type": "code",
   "execution_count": null,
   "metadata": {},
   "outputs": [],
   "source": [
    "# Import Literacy and numeracy dataset, define list of countries, years and features in dataset\n",
    "File = pd.read_csv('LiteracyNumeracyDataset.csv')\n",
    "country = 'Country Name'\n",
    "countries = ['Afghanistan','Albania','Algeria','Angola'\n",
    "             ,'Argentina','Armenia','Aruba','Azerbaijan',\n",
    "             'Bahrain','Bangladesh','Barbados','Belarus',\n",
    "             'Belize','Benin','Bhutan','Bolivia','Bosnia and Herzegovina',\n",
    "             'Botswana','Brazil','Brunei Darussalam','Bulgaria',\n",
    "             'Burkina Faso','Burundi','Cabo Verde','Cambodia',\n",
    "             'Cameroon','Central African Republic','Chad',\n",
    "             'Chile','China','Colombia','Comoros',\n",
    "             'Congo, Dem. Rep.','Congo, Rep.','Costa Rica',\n",
    "             \"Cote d'Ivoire\",'Croatia','Cuba','Cyprus',\n",
    "             \"Democratic People's Republic of Korea\",\n",
    "             'Dominican Republic','Ecuador','Egypt, Arab Rep.',\n",
    "             'El Salvador','Equatorial Guinea','Eritrea',\n",
    "             'Estonia','Eswatini','Ethiopia','Fiji','Gabon',\n",
    "             'Gambia','Georgia','Ghana','Greece','Grenada',\n",
    "             'Guatemala','Guinea','Guinea-Bissau','Guyana',\n",
    "             'Haiti','Honduras','Hungary','India','Indonesia',\n",
    "             'Iran, Islamic Rep.','Iraq','Italy','Jamaica',\n",
    "             'Jordan','Kazakhstan','Kenya','Kuwait','Kyrgyzstan',\n",
    "             \"Lao People's Democratic Republic\",'Latvia',\n",
    "             'Lebanon','Lesotho','Liberia','Lithuania',\n",
    "             'Macao SAR, China','Madagascar','Malawi',\n",
    "             'Malaysia','Maldives','Mali','Malta',\n",
    "             'Marshall Islands','Mauritania','Mauritius',\n",
    "             'Mexico','Moldova','Mongolia','Montenegro',\n",
    "             'Morocco','Mozambique','Myanmar','Namibia',\n",
    "             'Nepal','New Caledonia','Nicaragua','Niger',\n",
    "             'Nigeria','North Macedonia','Oman','Pakistan',\n",
    "             'Palau','Panama','Papua New Guinea','Paraguay',\n",
    "             'Peru','Philippines','Portugal','Puerto Rico',\n",
    "             'Qatar','Romania','Russian Federation','Rwanda',\n",
    "             'Saint Lucia','Samoa','San Marino','Sao Tome and Principe',\n",
    "             'Saudi Arabia','Senegal','Serbia','Seychelles',\n",
    "             'Sierra Leone','Singapore','Slovenia','South Africa',\n",
    "             'Spain','Sri Lanka','State of Palestine',\n",
    "             'Sudan','Suriname','Tajikistan','Tanzania',\n",
    "             'Thailand','Timor-Leste','Togo','Trinidad and Tobago',\n",
    "             'Tunisia','Turkey','Turkmenistan','Uganda',\n",
    "             'Ukraine','Uruguay','Uzbekistan','Vanuatu',\n",
    "             'Venezuela','Vietnam','Zambia','Zimbabwe']\n",
    "Year = ['1970',\t'1971',\t'1972',\t'1973',\t'1974',\t'1975',\t'1976',\t'1977',\t'1978',\t'1979',\t'1980',\t\n",
    "        '1981',\t'1982',\t'1983',\t'1984',\t'1985',\t'1986',\t'1987',\t'1988',\t'1989',\t'1990',\t'1991',\t\n",
    "        '1992',\t'1993',\t'1994',\t'1995',\t'1996',\t'1997',\t'1998',\t'1999',\t'2000',\t'2001',\t'2002',\t\n",
    "        '2003',\t'2004',\t'2005',\t'2006',\t'2007',\t'2008',\t'2009',\t'2010',\t'2011',\t'2012',\t'2013',\t\n",
    "        '2014',\t'2015',\t'2016',\t'2017',\t'2018']\n",
    "Indicator = ['Adult illiterate population, 15+ years, % female',\n",
    " 'Adult illiterate population, 15+ years, both sexes (number)',\n",
    " 'Adult illiterate population, 15+ years, female (number)',\n",
    " 'Adult illiterate population, 15+ years, male (number)',\n",
    " 'Adult literacy rate, population 15+ years, gender parity index (GPI)',\n",
    " 'Learning poverty: Share of Female Children at the End-of-Primary age below minimum reading proficiency adjusted by Out-of-School Children (%)',\n",
    " 'Learning poverty: Share of Male Children at the End-of-Primary age below minimum reading proficiency adjusted by Out-of-School Children (%)',\n",
    " 'Literacy rate, adult female (% of females ages 15 and above)',\n",
    " 'Literacy rate, adult male (% of males ages 15 and above)',\n",
    " 'Literacy rate, adult total (% of people ages 15 and above)',\n",
    " 'Literacy rate, youth (ages 15-24), gender parity index (GPI)',\n",
    " 'Literacy rate, youth female (% of females ages 15-24)',\n",
    " 'Literacy rate, youth male (% of males ages 15-24)',\n",
    " 'Literacy rate, youth total (% of people ages 15-24)',\n",
    " 'LLECE: Mean performance on the mathematics scale for 3rd grade students, female',\n",
    " 'LLECE: Mean performance on the mathematics scale for 3rd grade students, male',\n",
    " 'LLECE: Mean performance on the mathematics scale for 3rd grade students, total',\n",
    " 'LLECE: Mean performance on the mathematics scale for 4th grade students, total',\n",
    " 'LLECE: Mean performance on the mathematics scale for 6th grade students, female',\n",
    " 'LLECE: Mean performance on the mathematics scale for 6th grade students, male',\n",
    " 'LLECE: Mean performance on the mathematics scale for 6th grade students, total',\n",
    " 'LLECE: Mean performance on the reading scale for 3rd grade students, female',\n",
    " 'LLECE: Mean performance on the reading scale for 3rd grade students, male',\n",
    " 'LLECE: Mean performance on the reading scale for 3rd grade students, total',\n",
    " 'LLECE: Mean performance on the reading scale for 4th grade students, total',\n",
    " 'LLECE: Mean performance on the reading scale for 6th grade students, female',\n",
    " 'LLECE: Mean performance on the reading scale for 6th grade students, male',\n",
    " 'LLECE: Mean performance on the reading scale for 6th grade students, total',\n",
    " 'LLECE: Mean performance on the science scale for 6th grade students, female',\n",
    " 'LLECE: Mean performance on the science scale for 6th grade students, male',\n",
    " 'LLECE: Mean performance on the science scale for 6th grade students, total',\n",
    " 'Percentage of children (aged 36-59 months) developmentally on track in at least 3 of the 4 following domains: literacy-numeracy, physical, social-emotional and learning (%)',\n",
    " 'PIRLS: Mean performance on the reading scale, female',\n",
    " 'PIRLS: Mean performance on the reading scale, male',\n",
    " 'PIRLS: Mean performance on the reading scale, total',\n",
    " 'PISA: Mean performance on the mathematics scale',\n",
    " 'PISA: Mean performance on the mathematics scale. Female',\n",
    " 'PISA: Mean performance on the mathematics scale. Male',\n",
    " 'PISA: Mean performance on the reading scale',\n",
    " 'PISA: Mean performance on the reading scale. Female',\n",
    " 'PISA: Mean performance on the reading scale. Male',\n",
    " 'PISA: Mean performance on the science scale',\n",
    " 'PISA: Mean performance on the science scale. Female',\n",
    " 'PISA: Mean performance on the science scale. Male',\n",
    " 'SACMEQ: Mean performance on the mathematics scale',\n",
    " 'SACMEQ: Mean performance on the mathematics scale, female',\n",
    " 'SACMEQ: Mean performance on the mathematics scale, male',\n",
    " 'SACMEQ: Mean performance on the reading scale, female',\n",
    " 'SACMEQ: Mean performance on the reading scale, male',\n",
    " 'SACMEQ: Mean performance on the reading scale, total',\n",
    " 'TIMSS: Mean performance on the mathematics scale for eighth grade students, female',\n",
    " 'TIMSS: Mean performance on the mathematics scale for eighth grade students, male',\n",
    " 'TIMSS: Mean performance on the mathematics scale for eighth grade students, total',\n",
    " 'TIMSS: Mean performance on the mathematics scale for fourth grade students, female',\n",
    " 'TIMSS: Mean performance on the mathematics scale for fourth grade students, male',\n",
    " 'TIMSS: Mean performance on the mathematics scale for fourth grade students, total',\n",
    " 'TIMSS: Mean performance on the science scale for eighth grade students, female',\n",
    " 'TIMSS: Mean performance on the science scale for eighth grade students, male',\n",
    " 'TIMSS: Mean performance on the science scale for eighth grade students, total',\n",
    " 'TIMSS: Mean performance on the science scale for fourth grade students, female',\n",
    " 'TIMSS: Mean performance on the science scale for fourth grade students, male',\n",
    " 'TIMSS: Mean performance on the science scale for fourth grade students, total',\n",
    " 'Youth illiterate population, 15-24 years, % female',\n",
    " 'Youth illiterate population, 15-24 years, both sexes (number)',\n",
    " 'Youth illiterate population, 15-24 years, female (number)',\n",
    " 'Youth illiterate population, 15-24 years, male (number)']"
   ]
  },
  {
   "cell_type": "code",
   "execution_count": 3,
   "metadata": {},
   "outputs": [],
   "source": [
    "# functions to rearrange and plot datasets\n",
    "def rearrange_dataframe(df, indicator_name):\n",
    "    years = [c for c in df.columns if c[0] == '1' or c[0] == '2']\n",
    "    df = df.loc[df['Indicator'] == indicator_name]\n",
    "    df = pd.melt(df[[country] + years], id_vars=country, var_name='year')\n",
    "    ## https://pandas.pydata.org/pandas-docs/stable/reference/api/pandas.melt.html\n",
    "    df.rename(columns={'value': indicator_name}, inplace=True)\n",
    "    df.set_index(['year', country], inplace=True)\n",
    "    return df\n",
    "\n",
    "def plot_indicator(df, indicator_name):\n",
    "    fig, ax = plt.subplots(figsize=[15 ,10])\n",
    "    for label, dfi in df.groupby(level=1):\n",
    "        dfi[indicator].plot(ax=ax, label=label)\n",
    "    plt.legend()\n",
    "    ax.set_ylabel(indicator)\n",
    "    ax.set_xticklabels(df1c.index.levels[0].values)\n",
    "    ax.set_xlabel('year')\n",
    "    #ax.set_xlim(pd.Timestamp('1960'), pd.Timestamp('1964'))"
   ]
  },
  {
   "cell_type": "code",
   "execution_count": null,
   "metadata": {},
   "outputs": [],
   "source": [
    "# Correlation and Significance Matrix of all indicators in Literacy and numeracy dataset (all countries)\n",
    "CorrMatrix = np.zeros((len(Indicator),len(Indicator)))\n",
    "SigMatrix = np.zeros((len(Indicator),len(Indicator)))\n",
    "for i in range(len(Indicator)):\n",
    "    # First Indicator (i)\n",
    "    dfi = File\n",
    "    indicatori = Indicator[i]\n",
    "    dfir = rearrange_dataframe(dfi, indicatori)\n",
    "    dfir.sort_index(ascending=True, inplace=True)\n",
    "    dfic = dfir.loc[(slice(None), countries),:]\n",
    "    for j in range(len(Indicator)):\n",
    "        if int(i) != int(j):\n",
    "            # Second Indicator (j)\n",
    "            dfj = File\n",
    "            indicatorj = Indicator[j]\n",
    "            dfjr = rearrange_dataframe(dfj, indicatorj)\n",
    "            dfjr.sort_index(ascending=True, inplace=True)\n",
    "            dfjc = dfjr.loc[(slice(None), countries),:]\n",
    "            # Merge indicators together\n",
    "            dfm = dfic.merge(dfjc, left_index=True, right_index=True)\n",
    "            # Correlation\n",
    "            correlation = dfm[indicatori].corr(dfm[indicatorj])\n",
    "            CorrMatrix[i,j] = correlation\n",
    "            # Significance\n",
    "            dfm_clean = dfm[[indicatori, indicatorj]].dropna()\n",
    "            if int(len(dfm_clean)) < 2:\n",
    "                SigMatrix[i,j] = 1\n",
    "            else:\n",
    "                significance = pearsonr(dfm_clean[indicatori], dfm_clean[indicatorj])\n",
    "                SigMatrix[i,j] = significance[1]\n",
    "        else:\n",
    "            CorrMatrix[i,j] = 1"
   ]
  },
  {
   "cell_type": "code",
   "execution_count": null,
   "metadata": {},
   "outputs": [],
   "source": [
    "# plotting heatmap of correlations of literacy dataset\n",
    "%matplotlib qt\n",
    "ax = sns.heatmap(CorrMatrix, vmin=-1, vmax=1,cmap='cool')"
   ]
  },
  {
   "cell_type": "code",
   "execution_count": null,
   "metadata": {},
   "outputs": [],
   "source": [
    "# finding out what correlations are strong and significant in literacy dataset\n",
    "ModulusMatrix = abs(CorrMatrix)\n",
    "print(\"Indicators with strong correlation (>0.7) and are significant to 5%:\")\n",
    "for i in range(len(Indicator)):\n",
    "    for j in range(len(Indicator)):\n",
    "        if int(i) != int(j):\n",
    "            if (ModulusMatrix[i,j] > 0.7) and (SigMatrix[i,j] < 0.05):\n",
    "                print(str(Indicator[i]) + \" V.S. \" + str(Indicator[j]) + \" ---> \" + str(CorrMatrix[i,j]))\n",
    "        else:\n",
    "            continue"
   ]
  },
  {
   "cell_type": "markdown",
   "metadata": {},
   "source": [
    "**Finding correlations between features in Literacy dataset and features in political gender balance dataset**"
   ]
  },
  {
   "cell_type": "code",
   "execution_count": 4,
   "metadata": {},
   "outputs": [],
   "source": [
    "# Import political gender balance dataset, and defining features and years in dataset\n",
    "FileGen = pd.read_csv('PoliticalGenderBalanceDataset.csv')\n",
    "Year = ['1997','1998','1999','2000','2001','2002',\n",
    "        '2003','2004','2005','2006','2007','2008',\n",
    "        '2009','2010','2011','2012','2013',\n",
    "        '2014','2015','2016','2017','2018']\n",
    "IndicatorGen = ['Proportion of seats held by women in national parliaments (%)',\n",
    "            'Proportion of women in ministerial level positions (%)']"
   ]
  },
  {
   "cell_type": "code",
   "execution_count": 5,
   "metadata": {},
   "outputs": [],
   "source": [
    "# functions to find and print significant and strong correlations\n",
    "def Correlation_features(File,FileGen,Indicator,IndicatorGen,countries):\n",
    "    CorrMatrix = np.zeros((len(Indicator),len(IndicatorGen)))\n",
    "    SigMatrix = np.zeros((len(Indicator),len(IndicatorGen)))\n",
    "    for i in range(len(Indicator)):\n",
    "        # Indicator from literacy dataset (i)\n",
    "        dfi = File\n",
    "        indicatori = Indicator[i]\n",
    "        dfir = rearrange_dataframe(dfi, indicatori)\n",
    "        dfir.sort_index(ascending=True, inplace=True)\n",
    "        dfic = dfir.loc[(slice(None), countries),:]\n",
    "        for j in range(len(IndicatorGen)):\n",
    "            # Indicator from political gender balance dataset (j)\n",
    "            dfj = FileGen\n",
    "            indicatorj = IndicatorGen[j]\n",
    "            dfjr = rearrange_dataframe(dfj, indicatorj)\n",
    "            dfjr.sort_index(ascending=True, inplace=True)\n",
    "            dfjc = dfjr.loc[(slice(None), countries),:]\n",
    "            # Merge indicators together\n",
    "            dfm = dfic.merge(dfjc, left_index=True, right_index=True)\n",
    "            # Correlation\n",
    "            correlation = dfm[indicatori].corr(dfm[indicatorj])\n",
    "            CorrMatrix[i,j] = correlation\n",
    "            # Significance\n",
    "            dfm_clean = dfm[[indicatori, indicatorj]].dropna()\n",
    "            if int(len(dfm_clean)) < 2:\n",
    "                SigMatrix[i,j] = 1\n",
    "            else:\n",
    "                significance = pearsonr(dfm_clean[indicatori], dfm_clean[indicatorj])\n",
    "                SigMatrix[i,j] = significance[1]\n",
    "    return CorrMatrix, SigMatrix\n",
    "                \n",
    "def correlation_heatmap(CorrMatrix):\n",
    "    %matplotlib qt\n",
    "    ax = sns.heatmap(CorrMatrix, vmin=-1, vmax=1,cmap='cool')\n",
    "    \n",
    "def significant_correlations(CorrMatrix,SigMatrix,Indicator,IndicatorGen):\n",
    "    ModulusMatrix = abs(CorrMatrix)\n",
    "    a = 0\n",
    "    print(\"\\033[1m\" + \"Indicators with a strong correlation (>0.7) and are significant at a 5% level of significance:\"\n",
    "          + \"\\033[0;0m\")\n",
    "    for i in range(len(Indicator)):\n",
    "        for j in range(len(IndicatorGen)):\n",
    "            if (ModulusMatrix[i,j] > 0.7) and (SigMatrix[i,j] < 0.05):\n",
    "                a = a + 1\n",
    "                print(str(Indicator[i]) + \" V.S. \" + str(IndicatorGen[j]) + \" ---> \" + str(CorrMatrix[i,j]) + \"\\n\")\n",
    "    if a == 0:\n",
    "        print(\"None\")"
   ]
  },
  {
   "cell_type": "code",
   "execution_count": 6,
   "metadata": {},
   "outputs": [],
   "source": [
    "# Correlation and Significance Matrix of all indicators in Literacy and numeracy dataset compared with\n",
    "# political gender balance dataset (all countries)\n",
    "X = Correlation_features(File,FileGen,Indicator,IndicatorGen,countries)\n",
    "CorrMatrix = X[0]\n",
    "SigMatrix = X[1]"
   ]
  },
  {
   "cell_type": "code",
   "execution_count": null,
   "metadata": {},
   "outputs": [],
   "source": [
    "# plotting heatmap of correlations between literacy and political dataset\n",
    "correlation_heatmap(CorrMatrix)"
   ]
  },
  {
   "cell_type": "code",
   "execution_count": 7,
   "metadata": {},
   "outputs": [
    {
     "name": "stdout",
     "output_type": "stream",
     "text": [
      "\u001b[1mIndicators with a strong correlation (>0.7) and are significant at a 5% level of significance:\u001b[0;0m\n",
      "None\n"
     ]
    }
   ],
   "source": [
    "# finding out what correlations are strong and significant between both datasets (all countries)\n",
    "significant_correlations(CorrMatrix,SigMatrix,Indicator,IndicatorGen)"
   ]
  },
  {
   "cell_type": "markdown",
   "metadata": {},
   "source": [
    "**Correlations between literacy/numeracy and political dataset - grouped by continent**"
   ]
  },
  {
   "cell_type": "code",
   "execution_count": 8,
   "metadata": {},
   "outputs": [],
   "source": [
    "# CONTINENTS\n",
    "# Lists of countries in each continent (which are in datasets)\n",
    "Africa = ['Algeria','Angola','Benin','Botswana',\n",
    "             'Burkina Faso','Burundi','Cabo Verde',\n",
    "             'Cameroon','Central African Republic','Chad',\n",
    "             'Comoros','Congo, Dem. Rep.','Congo, Rep.',\n",
    "             \"Cote d'Ivoire\",'Egypt, Arab Rep.',\n",
    "             'Equatorial Guinea','Eritrea','Eswatini',\n",
    "             'Ethiopia','Gabon', 'Gambia','Ghana','Guinea',\n",
    "             'Guinea-Bissau','Kenya','Lesotho','Liberia',\n",
    "             'Madagascar','Malawi','Mali','Mauritania',\n",
    "             'Mauritius','Morocco','Mozambique','Namibia',\n",
    "             'Niger','Nigeria','Rwanda','Sao Tome and Principe',\n",
    "             'Senegal','Seychelles','Sierra Leone','South Africa',\n",
    "             'Sudan','Tanzania','Togo','Tunisia','Uganda',\n",
    "             'Zambia','Zimbabwe']\n",
    "Europe = ['Albania','Azerbaijan','Belarus','Bosnia and Herzegovina',\n",
    "         'Bulgaria','Croatia','Cyprus','Estonia',\n",
    "          'Georgia','Greece','Hungary','Italy','Latvia',\n",
    "          'Lithuania','Malta','Moldova','Montenegro',\n",
    "          'North Macedonia','Portugal','Romania',\n",
    "          'Russian Federation','San Marino','Serbia',\n",
    "          'Slovenia','Spain','Turkey','Ukraine',]\n",
    "Asia = ['Afghanistan','Armenia','Azerbaijan','Bahrain',\n",
    "        'Bangladesh','Bhutan','Brunei Darussalam',\n",
    "        'Cambodia','China','Cyprus',\"Democratic People's Republic of Korea\",\n",
    "        'Georgia','India','Indonesia','Iran, Islamic Rep.','Iraq',\n",
    "        'Jordan','Kazakhstan','Kuwait','Kyrgyzstan',\n",
    "        \"Lao People's Democratic Republic\",'Lebanon',\n",
    "        'Macao SAR, China','Malaysia','Maldives',\n",
    "        'Mongolia','Myanmar','Nepal','Oman','Pakistan',\n",
    "        'Philippines','Qatar','Russian Federation',\n",
    "        'Saudi Arabia','Singapore','Sri Lanka',\n",
    "        'State of Palestine','Tajikistan','Thailand',\n",
    "        'Timor-Leste','Turkey','Turkmenistan','Uzbekistan',\n",
    "        'Vietnam']\n",
    "NAmerica = ['Aruba','Barbados','Belize','Costa Rica',\n",
    "            'Cuba','Dominican Republic','El Salvador',\n",
    "            'Grenada','Guatemala','Haiti','Honduras',\n",
    "            'Jamaica','Mexico','Nicaragua','Panama',\n",
    "            'Puerto Rico','Saint Lucia',\n",
    "            'Trinidad and Tobago',]\n",
    "SAmerica = ['Argentina','Bolivia','Brazil','Chile',\n",
    "            'Colombia','Ecuador','Guyana','Paraguay',\n",
    "            'Peru','Suriname','Uruguay','Venezuela']\n",
    "Oceania = ['Fiji','Marshall Islands','New Caledonia',\n",
    "           'Palau','Papua New Guinea','Samoa','Vanuatu']"
   ]
  },
  {
   "cell_type": "code",
   "execution_count": 9,
   "metadata": {},
   "outputs": [
    {
     "name": "stderr",
     "output_type": "stream",
     "text": [
      "C:\\Users\\Lewis\\Miniconda3\\lib\\site-packages\\numpy\\lib\\function_base.py:2526: RuntimeWarning: Degrees of freedom <= 0 for slice\n",
      "  c = cov(x, y, rowvar)\n",
      "C:\\Users\\Lewis\\Miniconda3\\lib\\site-packages\\numpy\\lib\\function_base.py:2455: RuntimeWarning: divide by zero encountered in true_divide\n",
      "  c *= np.true_divide(1, fact)\n"
     ]
    },
    {
     "name": "stdout",
     "output_type": "stream",
     "text": [
      "\u001b[1mIndicators with a strong correlation (>0.7) and are significant at a 5% level of significance:\u001b[0;0m\n",
      "PISA: Mean performance on the science scale. Male V.S. Proportion of women in ministerial level positions (%) ---> -0.9972520276699796\n",
      "\n"
     ]
    }
   ],
   "source": [
    "# AFRICA\n",
    "X = Correlation_features(File,FileGen,Indicator,IndicatorGen,Africa)\n",
    "CorrMatrix = X[0]\n",
    "SigMatrix = X[1]\n",
    "significant_correlations(CorrMatrix,SigMatrix,Indicator,IndicatorGen)"
   ]
  },
  {
   "cell_type": "code",
   "execution_count": 10,
   "metadata": {},
   "outputs": [
    {
     "name": "stdout",
     "output_type": "stream",
     "text": [
      "\u001b[1mIndicators with a strong correlation (>0.7) and are significant at a 5% level of significance:\u001b[0;0m\n",
      "Learning poverty: Share of Male Children at the End-of-Primary age below minimum reading proficiency adjusted by Out-of-School Children (%) V.S. Proportion of seats held by women in national parliaments (%) ---> -0.7312085640117281\n",
      "\n"
     ]
    }
   ],
   "source": [
    "# ASIA\n",
    "X = Correlation_features(File,FileGen,Indicator,IndicatorGen,Asia)\n",
    "CorrMatrix = X[0]\n",
    "SigMatrix = X[1]\n",
    "significant_correlations(CorrMatrix,SigMatrix,Indicator,IndicatorGen)"
   ]
  },
  {
   "cell_type": "code",
   "execution_count": 11,
   "metadata": {},
   "outputs": [
    {
     "name": "stdout",
     "output_type": "stream",
     "text": [
      "\u001b[1mIndicators with a strong correlation (>0.7) and are significant at a 5% level of significance:\u001b[0;0m\n",
      "None\n"
     ]
    }
   ],
   "source": [
    "# EUROPE\n",
    "X = Correlation_features(File,FileGen,Indicator,IndicatorGen,Europe)\n",
    "CorrMatrix = X[0]\n",
    "SigMatrix = X[1]\n",
    "significant_correlations(CorrMatrix,SigMatrix,Indicator,IndicatorGen)"
   ]
  },
  {
   "cell_type": "code",
   "execution_count": 12,
   "metadata": {},
   "outputs": [
    {
     "name": "stdout",
     "output_type": "stream",
     "text": [
      "\u001b[1mIndicators with a strong correlation (>0.7) and are significant at a 5% level of significance:\u001b[0;0m\n",
      "LLECE: Mean performance on the mathematics scale for 4th grade students, total V.S. Proportion of seats held by women in national parliaments (%) ---> 0.9991287276012775\n",
      "\n",
      "LLECE: Mean performance on the reading scale for 4th grade students, total V.S. Proportion of seats held by women in national parliaments (%) ---> 0.998439067841662\n",
      "\n",
      "PIRLS: Mean performance on the reading scale, female V.S. Proportion of seats held by women in national parliaments (%) ---> 0.975198843183465\n",
      "\n",
      "PIRLS: Mean performance on the reading scale, male V.S. Proportion of seats held by women in national parliaments (%) ---> 0.9833811235439984\n",
      "\n",
      "PIRLS: Mean performance on the reading scale, total V.S. Proportion of seats held by women in national parliaments (%) ---> 0.9794435444034588\n",
      "\n",
      "PISA: Mean performance on the reading scale V.S. Proportion of seats held by women in national parliaments (%) ---> 0.7168413884890126\n",
      "\n",
      "PISA: Mean performance on the reading scale. Male V.S. Proportion of seats held by women in national parliaments (%) ---> 0.7272751767752713\n",
      "\n"
     ]
    }
   ],
   "source": [
    "# NORTH AMERICA\n",
    "X = Correlation_features(File,FileGen,Indicator,IndicatorGen,NAmerica)\n",
    "CorrMatrix = X[0]\n",
    "SigMatrix = X[1]\n",
    "significant_correlations(CorrMatrix,SigMatrix,Indicator,IndicatorGen)"
   ]
  },
  {
   "cell_type": "code",
   "execution_count": 13,
   "metadata": {},
   "outputs": [
    {
     "name": "stdout",
     "output_type": "stream",
     "text": [
      "\u001b[1mIndicators with a strong correlation (>0.7) and are significant at a 5% level of significance:\u001b[0;0m\n",
      "TIMSS: Mean performance on the mathematics scale for eighth grade students, female V.S. Proportion of seats held by women in national parliaments (%) ---> 0.9291883947761463\n",
      "\n",
      "TIMSS: Mean performance on the mathematics scale for eighth grade students, total V.S. Proportion of seats held by women in national parliaments (%) ---> 0.9157350459369965\n",
      "\n"
     ]
    }
   ],
   "source": [
    "# SOUTH AMERICA\n",
    "X = Correlation_features(File,FileGen,Indicator,IndicatorGen,SAmerica)\n",
    "CorrMatrix = X[0]\n",
    "SigMatrix = X[1]\n",
    "significant_correlations(CorrMatrix,SigMatrix,Indicator,IndicatorGen)"
   ]
  },
  {
   "cell_type": "code",
   "execution_count": 14,
   "metadata": {},
   "outputs": [
    {
     "name": "stdout",
     "output_type": "stream",
     "text": [
      "\u001b[1mIndicators with a strong correlation (>0.7) and are significant at a 5% level of significance:\u001b[0;0m\n",
      "None\n"
     ]
    }
   ],
   "source": [
    "# OCEANIA\n",
    "X = Correlation_features(File,FileGen,Indicator,IndicatorGen,Oceania)\n",
    "CorrMatrix = X[0]\n",
    "SigMatrix = X[1]\n",
    "significant_correlations(CorrMatrix,SigMatrix,Indicator,IndicatorGen)"
   ]
  },
  {
   "cell_type": "markdown",
   "metadata": {},
   "source": [
    "**Correlations between literacy/numeracy and political dataset - grouped by GNI per capita**"
   ]
  },
  {
   "cell_type": "code",
   "execution_count": 15,
   "metadata": {},
   "outputs": [],
   "source": [
    "# GNI PER CAPITA\n",
    "# Lists of countries with low, lower-middle, upper-middle and upper income per capita (which are in datasets)\n",
    "LI = ['Afghanistan','Benin','Burkina Faso','Central African Republic',\n",
    "      'Chad','Congo, Dem. Rep','Eritrea','Ethiopia',\n",
    "      'Gambia','Guinea','Guinea-Bissau','Haiti',\n",
    "      \"Democratic People's Republic of Korea\",'Liberia',\n",
    "      'Madagascar','Malawi','Mali','Mozambique','Nepal',\n",
    "      'Niger','Rwanda','Sierra Leone','Sudan','Tajikistan',\n",
    "      'Tanzania','Togo','Uganda']\n",
    "LMI = ['Angola','Bangladesh','Bhutan','Bolivia','Cabo Verde',\n",
    "       'Cambodia','Cameroon','Comoros','Congo, Rep.',\n",
    "       \"Cote d'Ivoire\",'Egypt, Arab Rep.','El Salvador',\n",
    "       'Eswatini','Ghana','Honduras','India','Indonesia',\n",
    "       'Kenya','Kyrgyzstan',\"Lao People's Democratic Republic\",\n",
    "       'Lesotho','Mauritania','Moldova','Mongolia',\n",
    "       'Morocco','Myanmar','Nicaragua','Nigeria','Pakistan',\n",
    "       'Papua New Guinea','Philippines','Sao Tome and Principe',\n",
    "       'Senegal','Sudan','Timor-Leste','Tunisia',\n",
    "       'Ukraine','Uzbekistan','Vanuatu','Vietnam',\n",
    "       'State of Palestine','Zambia','Zimbabwe']\n",
    "UMI = ['Albania','Algeria','Argentina','Armenia',\n",
    "       'Azerbaijan','Belarus','Belize','Bosnia and Herzegovina',\n",
    "       'Botswana','Brazil','Bulgaria','China','Colombia',\n",
    "       'Costa Rica','Cuba','Dominican Republic',\n",
    "       'Equatorial Guinea','Ecuador','Fiji','Gabon',\n",
    "       'Georgia','Grenada','Guatemala','Guyana',\n",
    "       'Iran, Islamic Rep.','Iraq','Jamaica','Jordan',\n",
    "       'Kazakhstan','Lebanon','Malaysia','Maldives',\n",
    "       'Marshall Islands','Mauritius','Mexico','Montenegro',\n",
    "       'Namibia','North Macedonia','Paraguay','Peru',\n",
    "       'Romania','Russian Federation','Samoa','Serbia',\n",
    "       'Sri Lanka','South Africa','Sanit Lucia','Suriname',\n",
    "       'Thailand','Turkey','Turkmenistan','Venezuela']\n",
    "HI = ['Aruba','Bahrain','Barbados','Brunei Darussalam',\n",
    "      'Chile','Croatia','Cyprus','Estonia','Greece',\n",
    "      'Hungary','Italy','Kuwait','Latvia','Lithuania',\n",
    "      'Macao SAR, China','Malta','New Caledonia',\n",
    "      'Oman','Palau','Panama','Portugal','Puerto Rico',\n",
    "      'Qatar','San Marino','Saudi Arabia','Seychelles',\n",
    "      'Singapore','Slovenia','Spain','Trinidad and Tobago','Uruguay']\n",
    "# Lists determined using https://datahelpdesk.worldbank.org/knowledgebase/articles/906519-world-bank-country-and-lending-groups"
   ]
  },
  {
   "cell_type": "code",
   "execution_count": 16,
   "metadata": {},
   "outputs": [
    {
     "name": "stdout",
     "output_type": "stream",
     "text": [
      "\u001b[1mIndicators with a strong correlation (>0.7) and are significant at a 5% level of significance:\u001b[0;0m\n",
      "Learning poverty: Share of Male Children at the End-of-Primary age below minimum reading proficiency adjusted by Out-of-School Children (%) V.S. Proportion of seats held by women in national parliaments (%) ---> -0.9792169018958119\n",
      "\n",
      "Percentage of children (aged 36-59 months) developmentally on track in at least 3 of the 4 following domains: literacy-numeracy, physical, social-emotional and learning (%) V.S. Proportion of women in ministerial level positions (%) ---> 0.7630223106838017\n",
      "\n"
     ]
    }
   ],
   "source": [
    "# LOW INCOME GNI\n",
    "X = Correlation_features(File,FileGen,Indicator,IndicatorGen,LI)\n",
    "CorrMatrix = X[0]\n",
    "SigMatrix = X[1]\n",
    "significant_correlations(CorrMatrix,SigMatrix,Indicator,IndicatorGen)"
   ]
  },
  {
   "cell_type": "code",
   "execution_count": 17,
   "metadata": {},
   "outputs": [
    {
     "name": "stdout",
     "output_type": "stream",
     "text": [
      "\u001b[1mIndicators with a strong correlation (>0.7) and are significant at a 5% level of significance:\u001b[0;0m\n",
      "None\n"
     ]
    }
   ],
   "source": [
    "# LOWER-MIDDLE INCOME GNI\n",
    "X = Correlation_features(File,FileGen,Indicator,IndicatorGen,LMI)\n",
    "CorrMatrix = X[0]\n",
    "SigMatrix = X[1]\n",
    "significant_correlations(CorrMatrix,SigMatrix,Indicator,IndicatorGen)"
   ]
  },
  {
   "cell_type": "code",
   "execution_count": 18,
   "metadata": {},
   "outputs": [
    {
     "name": "stdout",
     "output_type": "stream",
     "text": [
      "\u001b[1mIndicators with a strong correlation (>0.7) and are significant at a 5% level of significance:\u001b[0;0m\n",
      "None\n"
     ]
    }
   ],
   "source": [
    "# UPPER MIDDLE INCOME GNI\n",
    "X = Correlation_features(File,FileGen,Indicator,IndicatorGen,UMI)\n",
    "CorrMatrix = X[0]\n",
    "SigMatrix = X[1]\n",
    "significant_correlations(CorrMatrix,SigMatrix,Indicator,IndicatorGen)"
   ]
  },
  {
   "cell_type": "code",
   "execution_count": 19,
   "metadata": {},
   "outputs": [
    {
     "name": "stderr",
     "output_type": "stream",
     "text": [
      "C:\\Users\\Lewis\\Miniconda3\\lib\\site-packages\\scipy\\stats\\stats.py:3508: PearsonRConstantInputWarning: An input array is constant; the correlation coefficent is not defined.\n",
      "  warnings.warn(PearsonRConstantInputWarning())\n"
     ]
    },
    {
     "name": "stdout",
     "output_type": "stream",
     "text": [
      "\u001b[1mIndicators with a strong correlation (>0.7) and are significant at a 5% level of significance:\u001b[0;0m\n",
      "None\n"
     ]
    }
   ],
   "source": [
    "# HIGH INCOME GNI \n",
    "X = Correlation_features(File,FileGen,Indicator,IndicatorGen,HI)\n",
    "CorrMatrix = X[0]\n",
    "SigMatrix = X[1]\n",
    "significant_correlations(CorrMatrix,SigMatrix,Indicator,IndicatorGen)"
   ]
  },
  {
   "cell_type": "code",
   "execution_count": null,
   "metadata": {},
   "outputs": [],
   "source": []
  }
 ],
 "metadata": {
  "kernelspec": {
   "display_name": "Python 3",
   "language": "python",
   "name": "python3"
  },
  "language_info": {
   "codemirror_mode": {
    "name": "ipython",
    "version": 3
   },
   "file_extension": ".py",
   "mimetype": "text/x-python",
   "name": "python",
   "nbconvert_exporter": "python",
   "pygments_lexer": "ipython3",
   "version": "3.7.6"
  }
 },
 "nbformat": 4,
 "nbformat_minor": 2
}
